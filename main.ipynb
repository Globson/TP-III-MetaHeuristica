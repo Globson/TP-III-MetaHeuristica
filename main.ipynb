{
 "cells": [
  {
   "cell_type": "code",
   "execution_count": 11,
   "source": [
    "from sklearn.model_selection import train_test_split\n",
    "import matplotlib.pyplot as plt\n",
    "from numpy.random import seed, rand, randn\n",
    "from numpy import dtype, sin, sqrt, asarray, mean, std\n",
    "from Source.code import *\n",
    "from sklearn import preprocessing\n",
    "import numpy as np"
   ],
   "outputs": [],
   "metadata": {}
  },
  {
   "cell_type": "code",
   "execution_count": 12,
   "source": [
    "#print(le_arq(\"./Data/telecom_users.csv\"))\n",
    "df = le_arq(\"./Data/telecom_users.csv\")\n",
    "le = preprocessing.LabelEncoder()\n",
    "#print(df.head(10))"
   ],
   "outputs": [],
   "metadata": {}
  },
  {
   "cell_type": "code",
   "execution_count": 15,
   "source": [
    "#newDf = df.drop('IDCliente', 1)\n",
    "df = df.drop('IDCliente', 1)\n",
    "for i in df:\n",
    "    if(dtype(df[i]) == 'object'):\n",
    "        df[i] = le.fit_transform(df[i])\n",
    "print(df.head(10))\n"
   ],
   "outputs": [
    {
     "output_type": "stream",
     "name": "stdout",
     "text": [
      "   IDCliente  Genero  Aposentado  Casado  Dependentes  MesesComoCliente  \\\n",
      "0       4242       1           0       1            1                72   \n",
      "1       5794       0           0       0            0                44   \n",
      "2       5565       0           1       1            0                38   \n",
      "3       4233       1           0       0            0                 4   \n",
      "4       1269       1           0       0            0                 2   \n",
      "5       2553       0           0       1            0                70   \n",
      "6       1471       0           0       0            0                33   \n",
      "7       2585       0           0       0            0                 1   \n",
      "8       5352       1           0       0            0                39   \n",
      "9       4830       1           1       0            0                55   \n",
      "\n",
      "   ServicoTelefone  MultiplasLinhas  ServicoInternet  ServicoSegurancaOnline  \\\n",
      "0                1                2                2                       1   \n",
      "1                1                0                1                       0   \n",
      "2                1                2                1                       0   \n",
      "3                1                0                0                       0   \n",
      "4                1                0                0                       2   \n",
      "5                0                1                0                       2   \n",
      "6                1                2                1                       2   \n",
      "7                0                1                0                       0   \n",
      "8                0                1                0                       0   \n",
      "9                1                2                1                       2   \n",
      "\n",
      "   ...  ProtecaoEquipamento  ServicoSuporteTecnico  ServicoStreamingTV  \\\n",
      "0  ...                    1                      1                   1   \n",
      "1  ...                    2                      0                   2   \n",
      "2  ...                    0                      0                   0   \n",
      "3  ...                    0                      0                   0   \n",
      "4  ...                    2                      0                   0   \n",
      "5  ...                    2                      2                   0   \n",
      "6  ...                    0                      0                   0   \n",
      "7  ...                    0                      0                   0   \n",
      "8  ...                    2                      2                   0   \n",
      "9  ...                    2                      2                   2   \n",
      "\n",
      "   ServicoFilmes  TipoContrato  FaturaDigital  FormaPagamento  ValorMensal  \\\n",
      "0              1             0              0               2        24.10   \n",
      "1              0             2              1               2        88.15   \n",
      "2              0             2              1               3        74.95   \n",
      "3              2             2              1               0        55.90   \n",
      "4              0             2              0               0        53.45   \n",
      "5              2             0              1               3        49.85   \n",
      "6              2             2              1               0        90.65   \n",
      "7              0             2              1               1        24.90   \n",
      "8              0             1              0               1        35.55   \n",
      "9              2             2              1               0       116.50   \n",
      "\n",
      "   TotalGasto  Churn  \n",
      "0     1734.65      0  \n",
      "1     3973.20      0  \n",
      "2     2869.85      1  \n",
      "3      238.50      0  \n",
      "4      119.50      0  \n",
      "5     3370.20      0  \n",
      "6     2989.60      0  \n",
      "7       24.90      0  \n",
      "8     1309.15      0  \n",
      "9     6382.55      0  \n",
      "\n",
      "[10 rows x 21 columns]\n"
     ]
    }
   ],
   "metadata": {}
  },
  {
   "cell_type": "code",
   "execution_count": 16,
   "source": [
    "\n",
    "Churn = df[['Churn']]\n",
    "df = df.drop('Churn', 1)\n"
   ],
   "outputs": [
    {
     "output_type": "stream",
     "name": "stderr",
     "text": [
      "/tmp/ipykernel_13186/1805107560.py:2: FutureWarning: In a future version of pandas all arguments of DataFrame.drop except for the argument 'labels' will be keyword-only\n",
      "  df = df.drop('Churn', 1)\n"
     ]
    }
   ],
   "metadata": {}
  },
  {
   "cell_type": "code",
   "execution_count": null,
   "source": [
    "X_train, X_test, Y_train, Y_test = train_test_split(df, df['Churn'], random_state=42, test_size=0.3)"
   ],
   "outputs": [],
   "metadata": {}
  }
 ],
 "metadata": {
  "orig_nbformat": 4,
  "language_info": {
   "name": "python",
   "version": "3.8.10",
   "mimetype": "text/x-python",
   "codemirror_mode": {
    "name": "ipython",
    "version": 3
   },
   "pygments_lexer": "ipython3",
   "nbconvert_exporter": "python",
   "file_extension": ".py"
  },
  "kernelspec": {
   "name": "python3",
   "display_name": "Python 3.8.10 64-bit"
  },
  "interpreter": {
   "hash": "916dbcbb3f70747c44a77c7bcd40155683ae19c65e1c03b4aa3499c5328201f1"
  }
 },
 "nbformat": 4,
 "nbformat_minor": 2
}